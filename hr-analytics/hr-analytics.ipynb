{
 "cells": [
  {
   "cell_type": "markdown",
   "metadata": {},
   "source": [
    "# Análise de Dados Aplicada a Recursos Humanos"
   ]
  },
  {
   "attachments": {},
   "cell_type": "markdown",
   "metadata": {},
   "source": [
    "Uma empresa de consultoria busca Cientistas de Dados com qualificações em treinamentos ministrados pela própria empresa. O objetivo da empresa é identificar candidatos com perfil adequado e realmente interessados em trabalhar para ela ao concluírem os treinamentos. O objetivo da análise é realizar um extenso trabalho de análise nos dados, compreender como estão organizados, realizar limpeza e transformação dos dados conforme necessário, detectar eventuais padrões e diagnósticos e ao final emitir um parecer com um resumo sobre os dados."
   ]
  },
  {
   "cell_type": "markdown",
   "metadata": {},
   "source": [
    "## Instalando e Importando Pacotes."
   ]
  },
  {
   "cell_type": "code",
   "execution_count": null,
   "metadata": {},
   "outputs": [],
   "source": [
    "# Instala o pacote watermark. Utilizado para obter informações sobre as versões de outros pacotes utilizados neste Jupyter Notebook.\n",
    "# https://pypi.org/project/watermark/\n",
    "%pip install -q watermark"
   ]
  },
  {
   "cell_type": "code",
   "execution_count": null,
   "metadata": {},
   "outputs": [],
   "source": [
    "# Carrega o pacote watermark como um comando mágico no Jupyter Notebook.\n",
    "%load_ext watermark"
   ]
  },
  {
   "cell_type": "code",
   "execution_count": null,
   "metadata": {},
   "outputs": [],
   "source": [
    "# Instala o pacote missingno. Utilizado para criação de mapa de valores ausentes.\n",
    "# https://pypi.org/project/missingno/\n",
    "%pip install -q missingno"
   ]
  },
  {
   "cell_type": "code",
   "execution_count": null,
   "metadata": {},
   "outputs": [],
   "source": [
    "# Instala o pacote plotly. Utilizado para criação de gráficos.\n",
    "# https://pypi.org/project/plotly/\n",
    "%pip install -q plotly"
   ]
  },
  {
   "cell_type": "code",
   "execution_count": null,
   "metadata": {},
   "outputs": [],
   "source": [
    "# Importa pacotes necessários para esse projeto.\n",
    "\n",
    "# Manipulação de dados\n",
    "import pandas as pd\n",
    "import numpy as np\n",
    "\n",
    "# Visualização\n",
    "import missingno\n",
    "import matplotlib.pyplot as plt\n",
    "import seaborn as sns\n",
    "\n",
    "# Estatística\n",
    "from scipy.stats import normaltest"
   ]
  },
  {
   "cell_type": "code",
   "execution_count": null,
   "metadata": {},
   "outputs": [],
   "source": [
    "# Versão do Python e de todos os pacotes importados neste projeto.\n",
    "%watermark -a \"Luciana Sampaio\" -gu \"luasampaio\" --python --iversions --watermark"
   ]
  },
  {
   "cell_type": "markdown",
   "metadata": {},
   "source": [
    "## Análise Exploratória de Dados"
   ]
  },
  {
   "attachments": {},
   "cell_type": "markdown",
   "metadata": {},
   "source": [
    "### Carregando o conjunto de dados"
   ]
  },
  {
   "cell_type": "code",
   "execution_count": null,
   "metadata": {},
   "outputs": [],
   "source": [
    "#Carrega o dataset como um Dataframe do pandas.\n",
    "df = pd.read_csv('dataset/aug_train.csv')"
   ]
  },
  {
   "attachments": {},
   "cell_type": "markdown",
   "metadata": {},
   "source": [
    "### Informações Gerais"
   ]
  },
  {
   "cell_type": "code",
   "execution_count": null,
   "metadata": {},
   "outputs": [],
   "source": [
    "# Quantidade de linhas e colunas do conjunto de dados.\n",
    "rows, columns = df.shape\n",
    "print(f\"Linhas: {rows}\\nColunas: {columns}\")"
   ]
  },
  {
   "cell_type": "code",
   "execution_count": null,
   "metadata": {},
   "outputs": [],
   "source": [
    "# Colunas do conjunto de dados.\n",
    "df.columns"
   ]
  },
  {
   "cell_type": "code",
   "execution_count": null,
   "metadata": {},
   "outputs": [],
   "source": [
    "# Amostra dos dados. Primeiras cinco linhas do conjunto de dados.\n",
    "df.head()"
   ]
  },
  {
   "cell_type": "code",
   "execution_count": null,
   "metadata": {},
   "outputs": [],
   "source": [
    "# Visualização dos tipos de dados.\n",
    "df.info()"
   ]
  },
  {
   "cell_type": "markdown",
   "metadata": {
    "ExecuteTime": {
     "end_time": "2021-09-08T11:32:11.495969Z",
     "start_time": "2021-09-08T11:32:11.480299Z"
    }
   },
   "source": [
    "### Visualizando as Variáveis Categóricas"
   ]
  },
  {
   "cell_type": "code",
   "execution_count": null,
   "metadata": {},
   "outputs": [],
   "source": [
    "# Descreve os dados categóricos.\n",
    "df.describe(include = object)"
   ]
  },
  {
   "cell_type": "code",
   "execution_count": null,
   "metadata": {},
   "outputs": [],
   "source": [
    "# Plot\n",
    "\n",
    "# Tamanho da figura.\n",
    "plt.figure(figsize = (18,30))\n",
    "\n",
    "# Lista de colunas categóricas.\n",
    "column_list = list(df.columns.values)[3:12]\n",
    "\n",
    "# Contador.\n",
    "contador = 1\n",
    "\n",
    "for column in column_list:\n",
    "\n",
    "    plt.subplot(5, 2, contador) # Tamanho individual de cada sub-gráfico.\n",
    "    ax = sns.countplot(data = df.fillna('NaN'), x = column) #Conta as ocorrências, substituindo NaN pela string \"NaN\" através de fillna.\n",
    "    plt.title(column, fontsize = 15) #Titulo do Sub-Gráfico.\n",
    "\n",
    "    # Valor quantitativo de cada barra.\n",
    "    for p in ax.patches:\n",
    "        ax.annotate(f'{p.get_height()}', (p.get_x() + 0.4, p.get_height()), ha = 'center', color = 'black', size = 12)\n",
    "    \n",
    "    # A partir do sétimo gráfico rotacionar a legenda de cada coluna em 45°.\n",
    "    if contador >= 7:\n",
    "        plt.xticks(rotation = 45)\n",
    "\n",
    "    contador += 1 # Incrementa o contador em 1.\n",
    "\n",
    "# Layout\n",
    "plt.tight_layout(h_pad = 2)"
   ]
  },
  {
   "attachments": {},
   "cell_type": "markdown",
   "metadata": {},
   "source": [
    "### Verificando a Distribuição das Variáveis Numéricas"
   ]
  },
  {
   "cell_type": "code",
   "execution_count": null,
   "metadata": {},
   "outputs": [],
   "source": [
    "# Descrevendo os dados numéricos mas retirando os campos 'enrollee_id' e 'target', pois apesar de serem dados numéricos são, respectivamente, variáveis de identificador e categoria.\n",
    "df.describe().drop(columns = ['enrollee_id', 'target'])"
   ]
  },
  {
   "attachments": {},
   "cell_type": "markdown",
   "metadata": {},
   "source": [
    "* Em **city_development_index** (CDI), os valores médios são 0,828, mediana 0,903 e desvio padrão 0,123. Isso significa que a maioria dos candidatos é de cidades bem desenvolvidas. O Índice que mede desenvolvimento dos municípios são divididos em quatro categorias: baixo desenvolvimento (de 0 a 0,4), desenvolvimento regular (0,4 a 0,5), desenvolvimento moderado (de 0,6 a 0,8) e alto desenvolvimento (0,8 a 1).\n",
    "\n",
    "\n",
    "* Em **training_hours**, os valores médios são 65,367, mediana 47 e máximo 336. Isso significa que há mais candidatos com poucas horas de treinamento, mas alguns candidatos levam muito tempo para fazer o treinamento."
   ]
  },
  {
   "cell_type": "code",
   "execution_count": null,
   "metadata": {},
   "outputs": [],
   "source": [
    "# Plot\n",
    "\n",
    "# Tamanho da figura.\n",
    "plt.figure(figsize = (17,12))\n",
    "\n",
    "# Sub-Gráficos de Histogramas.\n",
    "plt.subplot(221) #Posição.\n",
    "sns.histplot(data = df, x = 'city_development_index', kde = True, color = \"green\") #Histograma com Curva de Densidade (kde).\n",
    "plt.title('Histograma do CDI', fontsize = 20) #Título\n",
    "\n",
    "plt.subplot(222) #Posição.\n",
    "sns.histplot(data = df, x = 'training_hours', kde = True, color = \"magenta\") #Histograma com Curva de Densidade (kde)\n",
    "plt.title('Histograma das Horas de Treinamento', fontsize = 20) #Título.\n",
    "\n",
    "# Sub-Gráficos de Boxplots.\n",
    "plt.subplot(223) #Posição.\n",
    "sns.boxplot(data = df, x = 'city_development_index', color = \"green\", orient=\"h\") #Boxplot com orientação Horizontal.\n",
    "\n",
    "plt.subplot(224) #Posição.\n",
    "sns.boxplot(data = df, x = 'training_hours', color = \"magenta\", orient=\"h\") #Boxplot com orientação Horizontal.\n",
    "\n",
    "plt.show()"
   ]
  },
  {
   "attachments": {},
   "cell_type": "markdown",
   "metadata": {},
   "source": [
    "* Pela curva de densidade do histograma de **city_development_index** (CDI) é possível identificar que a variável tem uma **distribuição de frequência bimodal**, ou seja, com duas modas. Ainda é possível identificar a presença de outliers mostrado pelo Boxplot.\n",
    "\n",
    "* Pela curva de densidade do histograma de **training_hours** é possível identificar que a variável tem uma **distribuição de frequência assimetrica positiva**, ou à direita. Ainda é possível identificar a presença de muitos outliers mostrado pelo Boxplot.\n"
   ]
  },
  {
   "cell_type": "markdown",
   "metadata": {},
   "source": [
    "### Teste de Normalidade da Distribuição"
   ]
  },
  {
   "attachments": {},
   "cell_type": "markdown",
   "metadata": {},
   "source": [
    "Mesmo interpretando os gráficos anteriores é de suma importância testar a normalizade das variáveis."
   ]
  },
  {
   "cell_type": "code",
   "execution_count": null,
   "metadata": {},
   "outputs": [],
   "source": [
    "# Lista com as variáveis numéricas\n",
    "numerical_feature = ['city_development_index', 'training_hours']\n",
    "\n",
    "for feature in numerical_feature:\n",
    "    # Calcula a normalidade através do 'teste normal'\n",
    "    statistic, pvalue = normaltest(df[feature])\n",
    "\n",
    "    # Verificando o valor-p\n",
    "    if pvalue > 0.05:\n",
    "        print(feature, ': Distribuição Normal')\n",
    "    else:\n",
    "        print(feature, ': Distribuição Não Normal')"
   ]
  },
  {
   "attachments": {},
   "cell_type": "markdown",
   "metadata": {},
   "source": [
    "* Como as variáveis **city_development_index** e **training_hours** não seguem a distribuição normal, usaremos o método **não paramétrico** para a análise numérica.\n",
    "\n",
    "* Dados de **training_hours** estão localizados principalmente no lado esquerdo do histograma. É um comportamento esperado porque é normal as pessoas se animarem no início do treinamento, mas nem todas o concluem."
   ]
  },
  {
   "attachments": {},
   "cell_type": "markdown",
   "metadata": {},
   "source": [
    "## Correlação de Dados e Seleção de Recursos"
   ]
  },
  {
   "attachments": {},
   "cell_type": "markdown",
   "metadata": {},
   "source": [
    "### Conversão de Variáveis\n",
    "\n",
    "O interpretador da linguagem Python classifica as variáveis **experience** e **last_new_job** como object, devido a presença de caracteres textuais em seus respectivos dados. Todavia, dependendo da natureza do problema a ser resolvido e do comportamento de cada variável, elas podem ser abordadas como variáveis categóricas ou númericas. Como é necessário selecionar profissionais para uma possível contratação, informações referentes a experiência total de cada candidato (em anos) e a diferença de tempo entre e o último emprego e o atual (em anos) podem ter correlação númerica com a variável **target**."
   ]
  },
  {
   "cell_type": "code",
   "execution_count": null,
   "metadata": {},
   "outputs": [],
   "source": [
    "# Cria uma cópia do Dataframe original.\n",
    "df_numerical = df.copy() #Dataframe temporário"
   ]
  },
  {
   "cell_type": "code",
   "execution_count": null,
   "metadata": {},
   "outputs": [],
   "source": [
    "# Ocorrência de cada valor textual da variável experience.\n",
    "df_numerical[\"experience\"].value_counts()"
   ]
  },
  {
   "cell_type": "code",
   "execution_count": null,
   "metadata": {},
   "outputs": [],
   "source": [
    "# Converte a variável experience para numérica.\n",
    "df_numerical[\"experience\"] = np.where(df_numerical[\"experience\"] == \"<1\", 1, df_numerical[\"experience\"]) #Substituindo <1 por 1.\n",
    "df_numerical[\"experience\"] = np.where(df_numerical[\"experience\"] == \">20\", 21, df_numerical[\"experience\"]) #Substituindo >20 por 21.\n",
    "df_numerical[\"experience\"] = df_numerical[\"experience\"].astype(float) #Conversão de tipos."
   ]
  },
  {
   "cell_type": "code",
   "execution_count": null,
   "metadata": {},
   "outputs": [],
   "source": [
    "# Ocorrência de cada valor numérico da variável experience.\n",
    "df_numerical[\"experience\"].value_counts()"
   ]
  },
  {
   "cell_type": "code",
   "execution_count": null,
   "metadata": {},
   "outputs": [],
   "source": [
    "# Ocorrência de cada valor textal da variável last_new_job.\n",
    "df_numerical[\"last_new_job\"].value_counts()"
   ]
  },
  {
   "cell_type": "code",
   "execution_count": null,
   "metadata": {},
   "outputs": [],
   "source": [
    "# Converte a variável last new job para numérica.\n",
    "df_numerical[\"last_new_job\"] = np.where(df_numerical[\"last_new_job\"] == \"never\", 0, df_numerical[\"last_new_job\"]) #Substituindo 'never' por 0.\n",
    "df_numerical[\"last_new_job\"] = np.where(df_numerical[\"last_new_job\"] == \">4\", 5, df_numerical[\"last_new_job\"]) #Substituindo >4 por 5.\n",
    "df_numerical[\"last_new_job\"] = df_numerical[\"last_new_job\"].astype(float) #Conversão de tipos."
   ]
  },
  {
   "cell_type": "code",
   "execution_count": null,
   "metadata": {},
   "outputs": [],
   "source": [
    "# Ocorrência de cada valor numérico da variável last_new_job.\n",
    "df_numerical[\"last_new_job\"].value_counts()"
   ]
  },
  {
   "cell_type": "code",
   "execution_count": null,
   "metadata": {},
   "outputs": [],
   "source": [
    "# Visualização dos tipos de dados.\n",
    "df_numerical.info()"
   ]
  },
  {
   "cell_type": "code",
   "execution_count": null,
   "metadata": {},
   "outputs": [],
   "source": [
    "df_numerical.head()"
   ]
  },
  {
   "cell_type": "code",
   "execution_count": null,
   "metadata": {},
   "outputs": [],
   "source": [
    "df_numerical.dtypes\n"
   ]
  },
  {
   "attachments": {},
   "cell_type": "markdown",
   "metadata": {},
   "source": [
    "Algumas interpretações sobre os resultados obtidos:\n",
    "\n",
    "- Embora seja uma correlação fraca, as variáveis **experience** e **city_development_index** tem correlação positivas (0.30) entre si. Possivelmente, profissionais residentes em cidades com alto índice de desenvolvimento tem maiores experiências.\n",
    "\n",
    "- As variáveis **experience** e **last_new_job** tem correlação média positivas (0.473) entre si. Possivelmente, profissinais que ficam pouco tempo sem trabalhar são mais experientes.\n",
    "\n",
    "- As variáveis **experience** e **trainng_hours** não tem correlação entre si, pois o valor é muito próximo a zero (0.0036).\n",
    "\n",
    "- Embora seja uma correlação fraca, as variáveis **experience** e **target** tem correlação negativas (-0.183) entre si. Possivelmente, profissionais com maiores experiências não estão buscando por um novo emprego na empresa de consultoria.\n",
    "\n",
    "- As variáveis **last_new_job** e **training_hours** tem correlaões próximas de zero com a variável alvo e, portanto, podem ser descartadas."
   ]
  },
  {
   "cell_type": "markdown",
   "metadata": {},
   "source": [
    "### Weight of Evidence (WOE) e Information Value (IV)\n"
   ]
  },
  {
   "attachments": {},
   "cell_type": "markdown",
   "metadata": {},
   "source": [
    "Weight of Evidence (WOE) e Information Value (IV) são métricas usadas para avaliar a importância de uma variável para prever uma variável alvo. Eles são comumente usados com variáveis categóricas, mas também podem ser aplicados a variáveis numéricas. O WOE fornece o poder preditivo de cada classe de uma variável, enquanto o IV fornece um valor único que representa o poder preditivo total da variável. Estas métricas ajudam na seleção de recursos importantes para prever a variável alvo."
   ]
  },
  {
   "attachments": {},
   "cell_type": "markdown",
   "metadata": {},
   "source": [
    "A fórmula para calcular o peso da evidência para qualquer característica é dada por:\n",
    "- WOE = ln (percentual de eventos / percentual de não eventos)\n",
    "\n",
    "A fórmula para calcular o valor da informação é dada por:\n",
    "- IV = &sum; (WOE * (percentual de eventos - percentual de não eventos)"
   ]
  },
  {
   "attachments": {},
   "cell_type": "markdown",
   "metadata": {},
   "source": [
    "<table border = \"1\">\n",
    "    <tr>\n",
    "        <td>< 0.02</td>\n",
    "        <td>Não deve ser usado para previsão</td>\n",
    "    </tr>\n",
    "    <tr>\n",
    "        <td>0.02 - 0.1</td>\n",
    "        <td>Preditor fraco</td>\n",
    "    </tr>\n",
    "    <tr>\n",
    "        <td>0.1 - 0.3</td>\n",
    "        <td>Preditor médio</td>\n",
    "    </tr>\n",
    "    <tr>\n",
    "        <td>0.3 - 0.5</td>\n",
    "        <td>Preditor forte</td>\n",
    "    </tr>\n",
    "    <tr>\n",
    "        <td>> 0.5</td>\n",
    "        <td>Bom demais para ser verdade</td>\n",
    "    </tr>\n",
    "</table>"
   ]
  },
  {
   "attachments": {},
   "cell_type": "markdown",
   "metadata": {},
   "source": [
    "Nesta etapa da análise, as seguintes variáveis serão excluídas: **enrollee_id**, pois é uma variável de identificação única; **city_development_index**, **training_hours**, **experience** e **last_new_job**, pois são variáveis numéricas; **city**, pois não há informações relevantes sobre cidades específicas; e **company_size**, pois o tamanho da empresa que o candidato trabalha atualmente não é relevante para a análise. Além disso, a variável **target** também será excluída por ser a variável alvo."
   ]
  },
  {
   "cell_type": "code",
   "execution_count": null,
   "metadata": {},
   "outputs": [],
   "source": [
    "#Indica quais colunas serão removidads.\n",
    "drop_columns = ['enrollee_id', #Variavável de identificação.\n",
    "                'city_development_index', #Variável numérica.\n",
    "                'training_hours', #Variável numérica.\n",
    "                'experience', #Variável numérica.\n",
    "                'last_new_job', #Variável numérica.\n",
    "                'city', #Variável irrelevante.\n",
    "                'company_size', #Variável irrelevante.\n",
    "                'target' #Variável alvo.\n",
    "              ]\n",
    "\n",
    "# Remove algumas colunas do Dataframe deixando apenas variáveis categóricas para essa análise.\n",
    "categorical_columns = df.drop(columns = drop_columns).columns\n",
    "\n",
    "# Lista para armazenar o IV.\n",
    "iv = []\n",
    "\n",
    "#Loop.\n",
    "for column in categorical_columns:\n",
    "    #Calcula a tabela cruzada de Target com todas as classes de todas as variaváveis que não foram retiradas.\n",
    "    df_woe_iv = (pd.crosstab(df[column], df['target'], normalize = 'columns')\n",
    "                .assign(woe = lambda dfx: np.log(dfx[1] / dfx[0])) #WOE.\n",
    "                .assign(iv = lambda dfx: np.sum(dfx['woe'] * (dfx[1] - dfx[0])))) #IV.\n",
    "    #Armazenando os valores de IV.\n",
    "    iv.append(df_woe_iv['iv'][0])\n",
    "\n",
    "    print(df_woe_iv,'\\n------------------------------------------------------------')"
   ]
  },
  {
   "cell_type": "code",
   "execution_count": null,
   "metadata": {},
   "outputs": [],
   "source": [
    "# Dataframe do Information Value\n",
    "df_iv = pd.DataFrame({'Features':categorical_columns,'iv':iv}).set_index('Features').sort_values(by = 'iv')\n",
    "\n",
    "# Plot do Information Value\n",
    "plt.figure(figsize = (10,12)) #Tamanho do gráfico.\n",
    "df_iv.plot(kind = 'barh', title = 'Information Value das Variáveis Categóricas', colormap = \"Accent\")\n",
    "\n",
    "for index, value in enumerate(list(round(df_iv[\"iv\"],3))):\n",
    "    plt.text((value), index, str(value))\n",
    "\n",
    "plt.legend(loc = \"lower right\")\n",
    "plt.show()"
   ]
  },
  {
   "attachments": {},
   "cell_type": "markdown",
   "metadata": {},
   "source": [
    "- No gráfico acima, podemos ver a ordem dos recursos com base em seu poder preditivo em relação ao alvo.\n",
    "\n",
    "- De acordo com o valor de Information Value (IV), **enrolled_university** é considerado um preditor de médio, enquanto que **relevant_experience** e **education_level** são considerados preditores fracos. As outras variáveis poderiam ser desconsideradas para a previsão, pois apresentam correlação próxima a zero com a variável **target**, ou ainda, não são necessárias para determinar se um(a) candidato(a) deve ser contratado(a). Entretanto, neste momento da análise apenas a variável **gender** será descartada. É possível que outras variáveis nessas mesmas condições também sejam descartadas de acordo com o resultado de análises futuras."
   ]
  },
  {
   "attachments": {},
   "cell_type": "markdown",
   "metadata": {},
   "source": [
    "## Identificando Valores Ausentes, Duplicados e Desbalanceados"
   ]
  },
  {
   "cell_type": "markdown",
   "metadata": {},
   "source": [
    "### Identificando Valores Ausentes"
   ]
  },
  {
   "cell_type": "code",
   "execution_count": null,
   "metadata": {},
   "outputs": [],
   "source": [
    "# Valores ausentes (NaN) por coluna.\n",
    "null_df = df.isna().sum().reset_index()\n",
    "\n",
    "# Tamanho do gráfico.\n",
    "ax = plt.figure(figsize = (10,5))\n",
    "\n",
    "# Barplot.\n",
    "ax = sns.barplot(x = null_df['index'], y = null_df[0], palette = 'husl')\n",
    "\n",
    "#Formatação do Gráfico.\n",
    "plt.xlabel('Atributos', fontsize = 12)\n",
    "plt.ylabel('Contagem de Valores Ausentes', fontsize = 12)\n",
    "plt.xticks(rotation = 45)\n",
    "plt.title(\"Plot de Valores Ausentes\", fontsize = 15)\n",
    "\n",
    "for p in ax.patches:\n",
    "    ax.annotate(f'\\n{p.get_height()}', (p.get_x()+0.4, (p.get_height())), ha = 'center', color = 'black', size = 11)\n",
    "\n",
    "plt.show()"
   ]
  },
  {
   "cell_type": "code",
   "execution_count": null,
   "metadata": {},
   "outputs": [],
   "source": [
    "# Mapa de Valores Ausentes.\n",
    "\n",
    "# Dataframe.\n",
    "df_nan = pd.DataFrame(df.isna().sum())\n",
    "\n",
    "# Plot.\n",
    "if df.isna().any(axis = None): #A função any() retorna True se qualquer item em um objeto iterável for verdadeiro, caso contrário, retorna False. Se o objeto iterável estiver vazio, a função any() retornará False.\n",
    "    missingno.matrix(df[df_nan[df_nan[0]>0].index])\n",
    "    plt.show()"
   ]
  },
  {
   "attachments": {},
   "cell_type": "markdown",
   "metadata": {},
   "source": [
    "Os valores ausentes de cada coluna não seguem um padrão."
   ]
  },
  {
   "cell_type": "markdown",
   "metadata": {},
   "source": [
    "### Identificando Valores Duplicados"
   ]
  },
  {
   "cell_type": "code",
   "execution_count": null,
   "metadata": {},
   "outputs": [],
   "source": [
    "# Verifica valores duplicados pela coluna de id.\n",
    "df['enrollee_id'].duplicated().sum()"
   ]
  },
  {
   "attachments": {},
   "cell_type": "markdown",
   "metadata": {},
   "source": [
    "Não há linhas com identificadores duplicados"
   ]
  },
  {
   "cell_type": "markdown",
   "metadata": {},
   "source": [
    "### Identificando Dados Desbalanceados"
   ]
  },
  {
   "cell_type": "code",
   "execution_count": null,
   "metadata": {},
   "outputs": [],
   "source": [
    "# Tamanho da figura.\n",
    "plt.figure(figsize = (17,(100)/20))\n",
    "\n",
    "#Pieplot.\n",
    "plt.subplot(121) #Posição do Sub-Gráfico.\n",
    "plt.pie(round(df['target'].value_counts() / len(df) * 100, 2), labels = list(df['target'].value_counts().index), autopct = \"%.2f%%\", explode = (0,0.1))\n",
    "plt.axis(\"equal\") #Espaço entre os Sub-Gráficos.\n",
    "plt.title(\"Target Imbalance Ratio\", size = 10) #Título.\n",
    "\n",
    "#Barplot.\n",
    "plt.subplot(122) #Posição do Sub-Gráfico.\n",
    "ax = sns.countplot(data = df, x = 'target')\n",
    "plt.title(\"Barplot Target Label\", fontsize = 10) #Título.\n",
    "\n",
    "for p in ax.patches:\n",
    "    ax.annotate(f'\\n{p.get_height()}', (p.get_x()+0.4, p.get_height()), ha = 'center', va = 'top', color = 'white', size = 12)"
   ]
  },
  {
   "attachments": {},
   "cell_type": "markdown",
   "metadata": {},
   "source": [
    "Os dados da variável **target** estão desbalanceados. Para o tipo de análise realizada nesse momento uma correção não é necessária. Em outras analises, como a preditiva, seria imprescindível corrigí-los."
   ]
  },
  {
   "attachments": {},
   "cell_type": "markdown",
   "metadata": {},
   "source": [
    "## Limpeza e Processamento dos Dados"
   ]
  },
  {
   "cell_type": "markdown",
   "metadata": {},
   "source": [
    "### Tratando os Valores Ausentes"
   ]
  },
  {
   "attachments": {},
   "cell_type": "markdown",
   "metadata": {},
   "source": [
    "Através das análises realizadas anteriormente, algumas variáveis foram identificadas como não sendo relevantes para o problema de negócio em questão, e, portanto, não serão incluídas nas futuras análises ou modelos. Recapitulando:\n",
    "\n",
    "- Os atributos **city** e **company_size** foram considerados irrelevantes pelo contexto do problema de negócio.\n",
    "- O atributo categórico **gender** não será utilizado pois tem Information Value (IV) próximo a zero com a variável **target**.\n",
    "- Os atributos númericos **last_new_job** e **training_hours** não serão utilizados pois têm correlações de Spearman próximas de zero com a variável **target**. "
   ]
  },
  {
   "cell_type": "code",
   "execution_count": null,
   "metadata": {},
   "outputs": [],
   "source": [
    "df.columns"
   ]
  },
  {
   "cell_type": "code",
   "execution_count": null,
   "metadata": {},
   "outputs": [],
   "source": [
    "#Seleção de colunas relevantes para a análise.\n",
    "columns_use = ['city_development_index', \n",
    "               'experience', \n",
    "               'enrolled_university', \n",
    "               'relevent_experience', \n",
    "               'education_level',\n",
    "               'company_type',\n",
    "               'major_discipline',\n",
    "               'target']"
   ]
  },
  {
   "cell_type": "code",
   "execution_count": null,
   "metadata": {},
   "outputs": [],
   "source": [
    "#Novo conjunto de dados sem as variáveis indesejadas.\n",
    "new_df = df[columns_use]"
   ]
  },
  {
   "cell_type": "code",
   "execution_count": null,
   "metadata": {},
   "outputs": [],
   "source": [
    "# Amostra dos dados. Primeiras cinco linhas do novo conjunto de dados.\n",
    "new_df.head()"
   ]
  },
  {
   "cell_type": "code",
   "execution_count": null,
   "metadata": {},
   "outputs": [],
   "source": [
    "# Valores ausentes (NaN) por coluna do novo conjunto de dados.\n",
    "null_df = new_df.isna().sum().reset_index()\n",
    "\n",
    "# Tamanho do gráfico.\n",
    "ax = plt.figure(figsize = (15,5))\n",
    "\n",
    "# Barplot.\n",
    "ax = sns.barplot(x = null_df['index'], y = null_df[0], palette = 'husl')\n",
    "\n",
    "#Formatação do Gráfico.\n",
    "plt.xlabel('Atributos', fontsize = 12)\n",
    "plt.ylabel('Contagem de Valores Ausentes', fontsize = 12)\n",
    "plt.xticks(rotation = 45)\n",
    "plt.title(\"Plot de Valores Ausentes\", fontsize = 15)\n",
    "\n",
    "for p in ax.patches:\n",
    "    ax.annotate(f'\\n{p.get_height()}', (p.get_x()+0.4, (p.get_height())), ha = 'center', color = 'black', size = 11)\n",
    "\n",
    "plt.show()"
   ]
  },
  {
   "cell_type": "code",
   "execution_count": null,
   "metadata": {},
   "outputs": [],
   "source": [
    "# Percentual de valores ausentes\n",
    "percent_missing = new_df.isnull().sum() / len(new_df) * 100\n",
    "percent_missing"
   ]
  },
  {
   "attachments": {},
   "cell_type": "markdown",
   "metadata": {},
   "source": [
    "#### Variável **major_discipline**"
   ]
  },
  {
   "cell_type": "code",
   "execution_count": null,
   "metadata": {},
   "outputs": [],
   "source": [
    "# Valores ausentes da Variável major_discipline.\n",
    "# Major_discipline quando se tem maior valor acadêmico em relação aos demais. \n",
    "sns.countplot(data = new_df.fillna('NaN'), x = 'major_discipline', alpha = 0.7, edgecolor = 'black')\n",
    "#Formatação\n",
    "plt.xticks(rotation = 45)\n",
    "bound = ax.get_xbound()\n",
    "ax = plt.gca()\n",
    "for p in ax.patches:\n",
    "    ax.annotate(f'\\n{p.get_height()}', (p.get_x()+0.4, p.get_height()), ha = 'center', color = 'black', size = 10)\n",
    "\n",
    "plt.title(\"Valores Ausentes da Variável major_discipline\\n\", fontsize = 15)\n",
    "plt.show()"
   ]
  },
  {
   "attachments": {},
   "cell_type": "markdown",
   "metadata": {},
   "source": [
    "##### Estratégia 01"
   ]
  },
  {
   "cell_type": "markdown",
   "metadata": {},
   "source": [
    "Relação de valores ausentes entre major_discipline x education_level"
   ]
  },
  {
   "cell_type": "code",
   "execution_count": null,
   "metadata": {},
   "outputs": [],
   "source": [
    "print('Total de Valores Ausentes na Variável major_discipline:', new_df['major_discipline'].isna().sum())\n",
    "print('Proporção de Valores Ausentes na Variável education_level:')\n",
    "new_df[new_df['major_discipline'].isna()]['education_level'].value_counts(dropna = False)"
   ]
  },
  {
   "attachments": {},
   "cell_type": "markdown",
   "metadata": {},
   "source": [
    "Analisando os valores ausentes da variável **major_discipline**, é possível observar a proporção de acordo com a variável **education_level**. A fim de preencher os valores faltantes da variável **major_discipline**, optou-se por utilizar **Non Degree** quando houverem registros de High School ou Primary School na variável **education_level**. Isso significa que o candidato não tem formação em nível de especialização."
   ]
  },
  {
   "cell_type": "code",
   "execution_count": null,
   "metadata": {},
   "outputs": [],
   "source": [
    "#Selecionando os índices que serão modificados.\n",
    "nan_index = new_df[new_df['major_discipline'].isna() & new_df['education_level'].isin(['High School', 'Primary School', np.nan])].index"
   ]
  },
  {
   "cell_type": "code",
   "execution_count": null,
   "metadata": {},
   "outputs": [],
   "source": [
    "#Tamanho do index.\n",
    "len(nan_index)"
   ]
  },
  {
   "cell_type": "code",
   "execution_count": null,
   "metadata": {},
   "outputs": [],
   "source": [
    "# Imputação do valor ausente.\n",
    "new_df.loc[nan_index, 'major_discipline'] = 'Non Degree'"
   ]
  },
  {
   "attachments": {},
   "cell_type": "markdown",
   "metadata": {},
   "source": [
    "##### Estratégia 02"
   ]
  },
  {
   "cell_type": "code",
   "execution_count": null,
   "metadata": {},
   "outputs": [],
   "source": [
    "print('Total de Valores Ausentes na Variável major_discipline:', new_df['major_discipline'].isna().sum())\n",
    "new_df['major_discipline'].value_counts(dropna = False)"
   ]
  },
  {
   "attachments": {},
   "cell_type": "markdown",
   "metadata": {},
   "source": [
    "Para os valores ausentes restantes preenchemos com 'Other'"
   ]
  },
  {
   "cell_type": "code",
   "execution_count": null,
   "metadata": {},
   "outputs": [],
   "source": [
    "new_df.loc[new_df['major_discipline'].isna(), 'major_discipline']  = 'Other'"
   ]
  },
  {
   "cell_type": "code",
   "execution_count": null,
   "metadata": {},
   "outputs": [],
   "source": [
    "# Valores Corrigidos da Variável major_discipline\n",
    "sns.countplot(data = new_df.fillna('NaN'), x = 'major_discipline', alpha = 0.7, edgecolor = 'black')\n",
    "#Formatação\n",
    "plt.xticks(rotation = 45)\n",
    "bound = ax.get_xbound()\n",
    "ax = plt.gca()\n",
    "for p in ax.patches:\n",
    "    ax.annotate(f'\\n{p.get_height()}', (p.get_x()+0.4, p.get_height()), ha = 'center', color = 'black', size = 10)\n",
    "\n",
    "plt.title(\"Valores Corrigidos da Variável major_discipline\\n\", fontsize = 15)\n",
    "plt.show()"
   ]
  },
  {
   "attachments": {},
   "cell_type": "markdown",
   "metadata": {},
   "source": [
    "#### Variável **enrolled_university**"
   ]
  },
  {
   "cell_type": "code",
   "execution_count": null,
   "metadata": {},
   "outputs": [],
   "source": [
    "# Valores ausentes específicos da Variável enrolled_university.\n",
    "sns.countplot(data = new_df.fillna('NaN'), x = 'enrolled_university', alpha = 0.7, edgecolor = 'black')\n",
    "# Formatação.\n",
    "sns.despine()\n",
    "plt.xticks()\n",
    "bound = ax.get_xbound()\n",
    "ax = plt.gca()\n",
    "\n",
    "for p in ax.patches:\n",
    "    ax.annotate(f'\\n{p.get_height()}', (p.get_x()+0.4, p.get_height()), ha = 'center', color = 'black', size = 10)\n",
    "\n",
    "plt.title(\"Valores Ausentes da Variável enrolled_university\\n\", fontsize = 15)\n",
    "plt.show()"
   ]
  },
  {
   "cell_type": "markdown",
   "metadata": {},
   "source": [
    "##### Estratégia 01"
   ]
  },
  {
   "attachments": {},
   "cell_type": "markdown",
   "metadata": {},
   "source": [
    "Relação de valores ausentes entre major_discipline x education_level"
   ]
  },
  {
   "cell_type": "code",
   "execution_count": null,
   "metadata": {},
   "outputs": [],
   "source": [
    "print('Total de Valores Ausentes na Variável major_discipline:', new_df['enrolled_university'].isna().sum())\n",
    "print('Proporção de Valores Ausentes na Variável education_level:')\n",
    "new_df[new_df['enrolled_university'].isna()]['education_level'].value_counts(dropna = False)"
   ]
  },
  {
   "attachments": {},
   "cell_type": "markdown",
   "metadata": {},
   "source": [
    " Analisando os valores ausentes da variável **enrolled_university**, é possível observar a proporção de acordo com a variável **education_level**. A fim de preencher os valores faltantes da variável **enrolled_university**, optou-se por utilizar **Primary Grad** quando houverem registros de Primary School na variável **education_level**. Isso significa que o candidato não está apto a ingressar na universidade."
   ]
  },
  {
   "cell_type": "code",
   "execution_count": null,
   "metadata": {},
   "outputs": [],
   "source": [
    "# Selecionando os índices que serão modificados\n",
    "nan_index = new_df[new_df['enrolled_university'].isna() & new_df['education_level'].isin(['Primary School'])].index"
   ]
  },
  {
   "cell_type": "code",
   "execution_count": null,
   "metadata": {},
   "outputs": [],
   "source": [
    "len(nan_index)"
   ]
  },
  {
   "cell_type": "code",
   "execution_count": null,
   "metadata": {},
   "outputs": [],
   "source": [
    "# Imputação de valores ausentes\n",
    "new_df.loc[nan_index, 'enrolled_university'] = 'Primary Grad'"
   ]
  },
  {
   "cell_type": "markdown",
   "metadata": {},
   "source": [
    "##### Estratégia 02"
   ]
  },
  {
   "cell_type": "code",
   "execution_count": null,
   "metadata": {},
   "outputs": [],
   "source": [
    "print('Total de Valores Ausentes na Variável major_discipline:', new_df['enrolled_university'].isna().sum())\n",
    "new_df['enrolled_university'].value_counts(dropna = False)"
   ]
  },
  {
   "cell_type": "markdown",
   "metadata": {},
   "source": [
    "Para os valores ausentes restantes preenchemos com 'Other'"
   ]
  },
  {
   "cell_type": "code",
   "execution_count": null,
   "metadata": {},
   "outputs": [],
   "source": [
    "new_df.loc[new_df['enrolled_university'].isna(), 'enrolled_university']  = 'Other'"
   ]
  },
  {
   "cell_type": "code",
   "execution_count": null,
   "metadata": {},
   "outputs": [],
   "source": [
    "# Valores Corrigidos da Variável major_discipline\n",
    "sns.countplot(data = new_df.fillna('NaN'), x = 'enrolled_university', alpha = 0.7, edgecolor = 'black')\n",
    "#Formatação\n",
    "plt.xticks(rotation = 45)\n",
    "bound = ax.get_xbound()\n",
    "ax = plt.gca()\n",
    "for p in ax.patches:\n",
    "    ax.annotate(f'\\n{p.get_height()}', (p.get_x()+0.4, p.get_height()), ha = 'center', color = 'black', size = 10)\n",
    "\n",
    "plt.title(\"Valores Corrigidos da Variável major_discipline\\n\", fontsize = 15)\n",
    "plt.show()"
   ]
  },
  {
   "attachments": {},
   "cell_type": "markdown",
   "metadata": {},
   "source": [
    "#### Variável **company_type**"
   ]
  },
  {
   "cell_type": "code",
   "execution_count": null,
   "metadata": {},
   "outputs": [],
   "source": [
    "# Valores ausentes específicos da Variável major_discipline\n",
    "sns.countplot(data = new_df.fillna('NaN'), x = 'company_type', alpha = 0.7, edgecolor = 'black')\n",
    "#Formatação\n",
    "plt.xticks(rotation = 45)\n",
    "bound = ax.get_xbound()\n",
    "ax = plt.gca()\n",
    "for p in ax.patches:\n",
    "    ax.annotate(f'\\n{p.get_height()}', (p.get_x()+0.4, p.get_height()), ha = 'center', color = 'black', size = 10)\n",
    "\n",
    "plt.title(\"Valores Ausentes da Variável company_type\\n\", fontsize = 15)\n",
    "plt.show()"
   ]
  },
  {
   "attachments": {},
   "cell_type": "markdown",
   "metadata": {},
   "source": [
    "##### Estratégia"
   ]
  },
  {
   "attachments": {},
   "cell_type": "markdown",
   "metadata": {},
   "source": [
    "Para os valores ausentes preenchemos com 'Other'"
   ]
  },
  {
   "cell_type": "code",
   "execution_count": null,
   "metadata": {},
   "outputs": [],
   "source": [
    "new_df.loc[new_df['company_type'].isna(), 'company_type']  = 'Other'"
   ]
  },
  {
   "cell_type": "code",
   "execution_count": null,
   "metadata": {},
   "outputs": [],
   "source": [
    "# Valores Corrigidos da Variável major_discipline\n",
    "sns.countplot(data = new_df.fillna('NaN'), x = 'company_type', alpha = 0.7, edgecolor = 'black')\n",
    "#Formatação\n",
    "plt.xticks(rotation = 45)\n",
    "bound = ax.get_xbound()\n",
    "ax = plt.gca()\n",
    "for p in ax.patches:\n",
    "    ax.annotate(f'\\n{p.get_height()}', (p.get_x()+0.4, p.get_height()), ha = 'center', color = 'black', size = 10)\n",
    "\n",
    "plt.title(\"Valores Corrigidos da Variável company_type\\n\", fontsize = 15)\n",
    "plt.show()"
   ]
  },
  {
   "attachments": {},
   "cell_type": "markdown",
   "metadata": {},
   "source": [
    "#### Variável **education_level**"
   ]
  },
  {
   "cell_type": "code",
   "execution_count": null,
   "metadata": {},
   "outputs": [],
   "source": [
    "# Valores ausentes específicos da Variável major_discipline\n",
    "sns.countplot(data = new_df.fillna('NaN'), x = 'education_level', alpha = 0.7, edgecolor = 'black')\n",
    "#Formatação\n",
    "plt.xticks(rotation = 45)\n",
    "bound = ax.get_xbound()\n",
    "ax = plt.gca()\n",
    "for p in ax.patches:\n",
    "    ax.annotate(f'\\n{p.get_height()}', (p.get_x()+0.4, p.get_height()), ha = 'center', color = 'black', size = 10)\n",
    "\n",
    "plt.title(\"Valores Ausentes da Variável company_type\\n\", fontsize = 15)\n",
    "plt.show()"
   ]
  },
  {
   "attachments": {},
   "cell_type": "markdown",
   "metadata": {},
   "source": [
    "##### Estratégia"
   ]
  },
  {
   "attachments": {},
   "cell_type": "markdown",
   "metadata": {},
   "source": [
    "Para os valores ausentes preenchemos com 'Other'"
   ]
  },
  {
   "cell_type": "code",
   "execution_count": null,
   "metadata": {},
   "outputs": [],
   "source": [
    "new_df.loc[new_df['education_level'].isna(), 'education_level']  = 'Other'"
   ]
  },
  {
   "cell_type": "code",
   "execution_count": null,
   "metadata": {},
   "outputs": [],
   "source": [
    "# Valores Corrigidos da Variável major_discipline\n",
    "sns.countplot(data = new_df.fillna('NaN'), x = 'education_level', alpha = 0.7, edgecolor = 'black')\n",
    "#Formatação\n",
    "plt.xticks(rotation = 45)\n",
    "bound = ax.get_xbound()\n",
    "ax = plt.gca()\n",
    "for p in ax.patches:\n",
    "    ax.annotate(f'\\n{p.get_height()}', (p.get_x()+0.4, p.get_height()), ha = 'center', color = 'black', size = 10)\n",
    "\n",
    "plt.title(\"Valores Corrigidos da Variável company_type\\n\", fontsize = 15)\n",
    "plt.show()"
   ]
  },
  {
   "attachments": {},
   "cell_type": "markdown",
   "metadata": {},
   "source": [
    "#### Variável **experience**"
   ]
  },
  {
   "cell_type": "markdown",
   "metadata": {},
   "source": [
    "##### Estratégia"
   ]
  },
  {
   "attachments": {},
   "cell_type": "markdown",
   "metadata": {},
   "source": [
    "A quantidade de valores ausentes da variável experience corresponde a aproximadamente 0.33% do Dataframe. Logo, é mais viável remover os valores ausentes nesse ponto da análise."
   ]
  },
  {
   "cell_type": "code",
   "execution_count": null,
   "metadata": {},
   "outputs": [],
   "source": [
    "# Quantidade de linhas e colunas do conjunto de dados.\n",
    "rows, columns = new_df.shape\n",
    "print(f\"Linhas: {rows}\\nColunas: {columns}\")"
   ]
  },
  {
   "cell_type": "code",
   "execution_count": null,
   "metadata": {},
   "outputs": [],
   "source": [
    "new_df = new_df.dropna() #Deve-se usar com cautela."
   ]
  },
  {
   "cell_type": "code",
   "execution_count": null,
   "metadata": {},
   "outputs": [],
   "source": [
    "rows, columns = new_df.shape\n",
    "print(f\"Linhas: {rows}\\nColunas: {columns}\")"
   ]
  },
  {
   "cell_type": "code",
   "execution_count": null,
   "metadata": {},
   "outputs": [],
   "source": [
    "# Percentual de valores ausentes\n",
    "percent_missing = new_df.isnull().sum() * 100 / len(new_df)\n",
    "percent_missing"
   ]
  },
  {
   "cell_type": "markdown",
   "metadata": {},
   "source": [
    "### Ajustes Finais"
   ]
  },
  {
   "attachments": {},
   "cell_type": "markdown",
   "metadata": {},
   "source": [
    "Padronizando o campo **enrolled_university** para que a primeira letra de 'no_enrollment' seja maiúscula."
   ]
  },
  {
   "cell_type": "code",
   "execution_count": null,
   "metadata": {},
   "outputs": [],
   "source": [
    "new_df.head()"
   ]
  },
  {
   "cell_type": "code",
   "execution_count": null,
   "metadata": {},
   "outputs": [],
   "source": [
    "# Padronizando os dados\n",
    "new_df['enrolled_university'] = new_df['enrolled_university'].replace('no_enrollment', 'No enrollment')"
   ]
  },
  {
   "cell_type": "code",
   "execution_count": null,
   "metadata": {},
   "outputs": [],
   "source": [
    "new_df.head()"
   ]
  },
  {
   "attachments": {},
   "cell_type": "markdown",
   "metadata": {},
   "source": [
    "Dividindo em x, que é usado para armazenar as features, e y, que é usado para armazenar o target. Essas variáveis são frequentemente usadas em modelos de aprendizado de máquina para treinar o modelo e fazer previsões. "
   ]
  },
  {
   "cell_type": "code",
   "execution_count": null,
   "metadata": {},
   "outputs": [],
   "source": [
    "x = new_df.drop(columns = ['target'])\n",
    "y = new_df['target']"
   ]
  },
  {
   "cell_type": "markdown",
   "metadata": {},
   "source": [
    "## Relatório Final"
   ]
  },
  {
   "attachments": {},
   "cell_type": "markdown",
   "metadata": {},
   "source": [
    "Com base em nossa análise observamos que as variáveis mais relevantes para identificar um bom candidato são:\n",
    "\n",
    "- Índice de Desenvolvimento da cidade onde mora o candidato.\n",
    "- Tempo de experiência profissional.\n",
    "- Se está ou não matriculado em um curso universitário.\n",
    "- Se tem ou não experiência relevante.\n",
    "- O nível educacional.\n",
    "- O tipo de empresa que o candidato trabalhou ou trabalha atualmente.\n",
    "- A especialização na graduação (quando for o caso).\n",
    "\n",
    "Não são relevantes para a análise:\n",
    "\n",
    "- O ID do candidato.\n",
    "- O código da cidade do candidato.\n",
    "- O gênero.\n",
    "- A última vez que o candidato esteve empregado.\n",
    "- O tamanho da empresa (quando for o caso).\n",
    "- Total de horas de treinamento.\n",
    "\n",
    "\n",
    "**Recomendações do Analista de Dados**:\n",
    "\n",
    "- O RH pode desenvolver um método de coleta de dados para obter outros recursos a fim de melhorar a qualidade dos dados e tornar o trabalho de análise mais preciso.\n",
    "\n",
    "- O RH pode procurar candidatos que vêm de cidades com índice de desenvolvimento urbano mais baixo, sem experiência relevante, nível de educação superior e menor experiência de trabalho para ter maior chance de encontrar candidatos que estão procurando um emprego.\n",
    "\n",
    "- O RH pode tornar o treinamento mais compacto porque muitas pessoas não precisam de muito tempo para concluir o treinamento."
   ]
  }
 ],
 "metadata": {
  "kernelspec": {
   "display_name": "base",
   "language": "python",
   "name": "python3"
  },
  "language_info": {
   "codemirror_mode": {
    "name": "ipython",
    "version": 3
   },
   "file_extension": ".py",
   "mimetype": "text/x-python",
   "name": "python",
   "nbconvert_exporter": "python",
   "pygments_lexer": "ipython3",
   "version": "3.12.0"
  },
  "vscode": {
   "interpreter": {
    "hash": "74cebf05746f11c319e2e4e2940f94c74966e85210288119c57da6a0efea649d"
   }
  }
 },
 "nbformat": 4,
 "nbformat_minor": 2
}
