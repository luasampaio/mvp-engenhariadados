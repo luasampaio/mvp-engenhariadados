{
 "cells": [
  {
   "cell_type": "markdown",
   "metadata": {},
   "source": [
    "## Gerador de Horários de Ponto para Jornada de 8 Horas Diárias\n",
    "\n",
    "- Por: Luciana Sampaio\n",
    "- Data: 03/04/25 \n",
    "\n",
    "-----\n",
    "\n",
    "- **4 registros por dia:** Cada dia contém *quatro horários de marcação de ponto*: **Entrada**, **Saída para Almoço**, **Retorno do Almoço** e **Saída Final**. Assim, há dois intervalos principais (manhã e tarde) para cada dia trabalhado.\n",
    "\n",
    "- **Jornada total de 8 horas:** O gerador calcula os horários de forma que a **soma do tempo trabalhado** (manhã + tarde, excluindo o intervalo de almoço) seja de **8 horas**. Ou seja, a duração do trabalho pela manhã somada à da tarde totaliza 8h. O intervalo de almoço não conta como tempo trabalhado.\n",
    "\n",
    "- **Variações aleatórias nos horários:** Para evitar dias idênticos, são introduzidas **pequenas variações aleatórias de 1 a 10 minutos** nos horários de entrada, saída e retorno. Com isso, cada dia terá horários ligeiramente diferentes (por exemplo, entrada às 08:05 em um dia e 08:12 no outro), mantendo a naturalidade.\n",
    "\n",
    "- **Cálculo do horário de saída:** O horário de saída final é calculado com base na entrada e na duração do almoço para garantir as 8 horas de trabalho. Por exemplo, se alguém entra às 08:30 e faz 1h de almoço, deverá sair aproximadamente às 17:30. Pequenas diferenças de minutos podem ocorrer dependendo das variações aleatórias (por exemplo, saída às 17:34 ou 17:21 em vez de 17:30, gerando 8h02 ou 7h59 de trabalho, que podem ser contabilizados no banco de horas).\n"
   ]
  },
  {
   "cell_type": "code",
   "execution_count": null,
   "metadata": {},
   "outputs": [
    {
     "data": {
      "text/plain": [
       "'E:/data-engineering-projects/registro_ponto_simulado.xlsx'"
      ]
     },
     "execution_count": 3,
     "metadata": {},
     "output_type": "execute_result"
    }
   ],
   "source": [
    "import pandas as pd\n",
    "import random\n",
    "from datetime import datetime, timedelta\n",
    "\n",
    "def gerar_horarios_dia():\n",
    "    # Entrada entre 08:00 e 09:15\n",
    "    entrada = datetime.strptime(\"08:00\", \"%H:%M\") + timedelta(minutes=random.randint(0, 75))\n",
    "\n",
    "    # Turno da manhã: entre 3h e 4h (180 a 240 minutos)\n",
    "    duracao_manha = random.randint(180, 240)\n",
    "    saida_almoco = entrada + timedelta(minutes=duracao_manha)\n",
    "\n",
    "    # Intervalo de almoço: entre 60 e 90 minutos\n",
    "    intervalo_almoco = random.randint(60, 90)\n",
    "    retorno_almoco = saida_almoco + timedelta(minutes=intervalo_almoco)\n",
    "\n",
    "    # Término do dia: completar 8h totais de trabalho\n",
    "    duracao_tarde = 480 - duracao_manha  # 8h = 480 minutos\n",
    "    saida_final = retorno_almoco + timedelta(minutes=duracao_tarde)\n",
    "\n",
    "    # Total trabalhado\n",
    "    total_trabalhado = timedelta(minutes=duracao_manha + duracao_tarde)\n",
    "\n",
    "    return {\n",
    "        \"Entrada 1\": entrada.strftime(\"%H:%M\"),\n",
    "        \"Saída 1\": saida_almoco.strftime(\"%H:%M\"),\n",
    "        \"Entrada 2\": retorno_almoco.strftime(\"%H:%M\"),\n",
    "        \"Saída 2\": saida_final.strftime(\"%H:%M\"),\n",
    "        \"Banco de Horas\": f\"{total_trabalhado.seconds // 3600:02d}:{(total_trabalhado.seconds % 3600) // 60:02d}\",\n",
    "        \"Observação\": \"\" if random.random() > 0.1 else \"Este registro foi inserido manualmente.\"\n",
    "    }\n",
    "\n",
    "# Gerar 30 dias úteis consecutivos\n",
    "dados = [gerar_horarios_dia() for _ in range(30)]\n",
    "\n",
    "# Criar DataFrame\n",
    "df = pd.DataFrame(dados)\n",
    "\n",
    "# Salvar em Excel\n",
    "caminho_arquivo = \"E:/data-engineering-projects/registro_ponto_simulado.xlsx\"\n",
    "df.to_excel(caminho_arquivo, index=False)\n",
    "\n",
    "caminho_arquivo\n"
   ]
  }
 ],
 "metadata": {
  "kernelspec": {
   "display_name": "base",
   "language": "python",
   "name": "python3"
  },
  "language_info": {
   "codemirror_mode": {
    "name": "ipython",
    "version": 3
   },
   "file_extension": ".py",
   "mimetype": "text/x-python",
   "name": "python",
   "nbconvert_exporter": "python",
   "pygments_lexer": "ipython3",
   "version": "3.12.7"
  }
 },
 "nbformat": 4,
 "nbformat_minor": 2
}
