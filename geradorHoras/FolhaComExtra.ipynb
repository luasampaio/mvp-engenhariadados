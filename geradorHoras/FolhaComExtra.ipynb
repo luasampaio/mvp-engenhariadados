{
 "cells": [
  {
   "cell_type": "markdown",
   "metadata": {},
   "source": [
    "###  Gerador de Horários de Ponto para Jornada de 8 Horas Diárias\n",
    "\n",
    "- **4 registros por dia:** Cada dia contém *quatro horários de marcação de ponto*: **Entrada**, **Saída para Almoço**, **Retorno do Almoço** e **Saída Final**. Assim, há dois intervalos principais (manhã e tarde) para cada dia trabalhado.\n",
    "\n",
    "- **Jornada total de 8 horas:** O gerador calcula os horários de forma que a **soma do tempo trabalhado** (manhã + tarde, excluindo o intervalo de almoço) seja de **8 horas**. Ou seja, a duração do trabalho pela manhã somada à da tarde totaliza 8h. O intervalo de almoço não conta como tempo trabalhado.\n",
    "\n"
   ]
  },
  {
   "cell_type": "code",
   "execution_count": 3,
   "metadata": {},
   "outputs": [
    {
     "data": {
      "text/plain": [
       "'E:/data-engineering-projects/registro_ponto_simulado.xlsx'"
      ]
     },
     "execution_count": 3,
     "metadata": {},
     "output_type": "execute_result"
    }
   ],
   "source": [
    "import pandas as pd\n",
    "import random\n",
    "from datetime import datetime, timedelta\n",
    "\n",
    "def gerar_horarios_dia():\n",
    "    # Entrada entre 08:00 e 09:15\n",
    "    entrada = datetime.strptime(\"08:00\", \"%H:%M\") + timedelta(minutes=random.randint(0, 75))\n",
    "\n",
    "    # Turno da manhã: entre 3h e 4h (180 a 240 minutos)\n",
    "    duracao_manha = random.randint(180, 240)\n",
    "    saida_almoco = entrada + timedelta(minutes=duracao_manha)\n",
    "\n",
    "    # Intervalo de almoço: entre 60 e 90 minutos\n",
    "    intervalo_almoco = random.randint(60, 90)\n",
    "    retorno_almoco = saida_almoco + timedelta(minutes=intervalo_almoco)\n",
    "\n",
    "    # Término do dia: completar 8h totais de trabalho\n",
    "    duracao_tarde = 480 - duracao_manha  # 8h = 480 minutos\n",
    "    saida_final = retorno_almoco + timedelta(minutes=duracao_tarde)\n",
    "\n",
    "    # Total trabalhado\n",
    "    total_trabalhado = timedelta(minutes=duracao_manha + duracao_tarde)\n",
    "\n",
    "    return {\n",
    "        \"Entrada 1\": entrada.strftime(\"%H:%M\"),\n",
    "        \"Saída 1\": saida_almoco.strftime(\"%H:%M\"),\n",
    "        \"Entrada 2\": retorno_almoco.strftime(\"%H:%M\"),\n",
    "        \"Saída 2\": saida_final.strftime(\"%H:%M\"),\n",
    "        \"Banco de Horas\": f\"{total_trabalhado.seconds // 3600:02d}:{(total_trabalhado.seconds % 3600) // 60:02d}\",\n",
    "        \"Observação\": \"\" if random.random() > 0.1 else \"Este registro foi inserido manualmente.\"\n",
    "    }\n",
    "\n",
    "# Gerar 10 dias úteis consecutivos\n",
    "dados = [gerar_horarios_dia() for _ in range(30)]\n",
    "\n",
    "# Criar DataFrame\n",
    "df = pd.DataFrame(dados)\n",
    "\n",
    "# Salvar em Excel\n",
    "caminho_arquivo = \"E:/data-engineering-projects/registro_ponto_simulado.xlsx\"\n",
    "df.to_excel(caminho_arquivo, index=False)\n",
    "\n",
    "caminho_arquivo\n"
   ]
  },
  {
   "cell_type": "code",
   "execution_count": 4,
   "metadata": {},
   "outputs": [
    {
     "data": {
      "text/plain": [
       "('E:/data-engineering-projects/registro_ponto_melhorado.xlsx',\n",
       " 'E:/data-engineering-projects/registro_ponto_melhorado.csv')"
      ]
     },
     "execution_count": 4,
     "metadata": {},
     "output_type": "execute_result"
    }
   ],
   "source": [
    "import pandas as pd\n",
    "import random\n",
    "from datetime import datetime, timedelta\n",
    "from pandas.tseries.offsets import BDay\n",
    "\n",
    "def gerar_horarios_dia(data_base):\n",
    "    # Entrada entre 08:00 e 09:15\n",
    "    entrada = datetime.combine(data_base, datetime.min.time()) + timedelta(hours=8) + timedelta(minutes=random.randint(0, 75))\n",
    "\n",
    "    # Variação total do dia (±3 minutos)\n",
    "    variacao_total = random.randint(-3, 3)\n",
    "\n",
    "    # Turno da manhã: entre 3h30 e 4h15 (210 a 255 minutos)\n",
    "    duracao_manha = random.randint(210, 255)\n",
    "    saida_almoco = entrada + timedelta(minutes=duracao_manha)\n",
    "\n",
    "    # Intervalo de almoço: entre 60 e 90 minutos\n",
    "    intervalo_almoco = random.randint(60, 90)\n",
    "    retorno_almoco = saida_almoco + timedelta(minutes=intervalo_almoco)\n",
    "\n",
    "    # Término do dia: completar 8h totais de trabalho com variação\n",
    "    duracao_total = 480 + variacao_total\n",
    "    duracao_tarde = duracao_total - duracao_manha\n",
    "    saida_final = retorno_almoco + timedelta(minutes=duracao_tarde)\n",
    "\n",
    "    # Total trabalhado\n",
    "    total_trabalhado = timedelta(minutes=duracao_manha + duracao_tarde)\n",
    "    horas = total_trabalhado.seconds // 3600\n",
    "    minutos = (total_trabalhado.seconds % 3600) // 60\n",
    "\n",
    "    # Observações eventuais\n",
    "    observacao = \"\"\n",
    "    if random.random() < 0.15:\n",
    "        observacao = random.choice([\n",
    "            \"Este registro foi inserido manualmente.\",\n",
    "            \"Atraso justificado.\",\n",
    "            \"Saída antecipada autorizada.\",\n",
    "            \"Almoço prolongado com aprovação.\",\n",
    "        ])\n",
    "\n",
    "    return {\n",
    "        \"Data\": data_base.strftime(\"%Y-%m-%d\"),\n",
    "        \"Entrada 1\": entrada.strftime(\"%H:%M\"),\n",
    "        \"Saída 1\": saida_almoco.strftime(\"%H:%M\"),\n",
    "        \"Entrada 2\": retorno_almoco.strftime(\"%H:%M\"),\n",
    "        \"Saída 2\": saida_final.strftime(\"%H:%M\"),\n",
    "        \"Banco de Horas\": f\"{horas:02d}:{minutos:02d}\",\n",
    "        \"Observação\": observacao\n",
    "    }\n",
    "\n",
    "# Gerar dias úteis a partir de hoje\n",
    "numero_dias = 15\n",
    "data_inicial = datetime.today()\n",
    "datas_uteis = [data_inicial + BDay(i) for i in range(numero_dias)]\n",
    "\n",
    "# Gerar dados\n",
    "dados = [gerar_horarios_dia(data.date()) for data in datas_uteis]\n",
    "\n",
    "# Criar DataFrame\n",
    "df = pd.DataFrame(dados)\n",
    "\n",
    "# Adicionar linha de totalizador\n",
    "def somar_horas(col):\n",
    "    total = timedelta()\n",
    "    for h in col:\n",
    "        t = datetime.strptime(h, \"%H:%M\")\n",
    "        total += timedelta(hours=t.hour, minutes=t.minute)\n",
    "    horas = total.seconds // 3600\n",
    "    minutos = (total.seconds % 3600) // 60\n",
    "    return f\"{horas:02d}:{minutos:02d}\"\n",
    "\n",
    "totalizador = {\n",
    "    \"Data\": \"Total\",\n",
    "    \"Entrada 1\": \"\",\n",
    "    \"Saída 1\": \"\",\n",
    "    \"Entrada 2\": \"\",\n",
    "    \"Saída 2\": \"\",\n",
    "    \"Banco de Horas\": somar_horas(df[\"Banco de Horas\"]),\n",
    "    \"Observação\": \"Total de horas trabalhadas\"\n",
    "}\n",
    "df.loc[len(df.index)] = totalizador\n",
    "\n",
    "# Exportar para Excel e CSV\n",
    "excel_path = \"E:/data-engineering-projects/registro_ponto_melhorado.xlsx\"\n",
    "csv_path = \"E:/data-engineering-projects/registro_ponto_melhorado.csv\"\n",
    "\n",
    "df.to_excel(excel_path, index=False)\n",
    "df.to_csv(csv_path, index=False)\n",
    "\n",
    "excel_path, csv_path\n"
   ]
  }
 ],
 "metadata": {
  "kernelspec": {
   "display_name": "base",
   "language": "python",
   "name": "python3"
  },
  "language_info": {
   "codemirror_mode": {
    "name": "ipython",
    "version": 3
   },
   "file_extension": ".py",
   "mimetype": "text/x-python",
   "name": "python",
   "nbconvert_exporter": "python",
   "pygments_lexer": "ipython3",
   "version": "3.12.7"
  }
 },
 "nbformat": 4,
 "nbformat_minor": 2
}
