{
 "cells": [
  {
   "cell_type": "code",
   "execution_count": 1,
   "metadata": {},
   "outputs": [
    {
     "name": "stdout",
     "output_type": "stream",
     "text": [
      "Entrada: 08:22 - Almoço: 12:22 - Retorno: 13:22 - Saída: 17:28\n"
     ]
    }
   ],
   "source": [
    "import random\n",
    "from datetime import datetime, timedelta\n",
    "\n",
    "def gerar_horario():\n",
    "    # Gera um horário de entrada aleatório entre 7:00 e 9:00\n",
    "    hora_entrada = datetime.strptime(f'{random.randint(7, 9)}:{random.randint(0, 59):02}', '%H:%M')\n",
    "    \n",
    "    # Gera o horário de almoço após 4 horas de trabalho\n",
    "    hora_almoco = hora_entrada + timedelta(hours=4)\n",
    "    retorno_almoco = hora_almoco + timedelta(hours=1)  # Pausa de 1 hora\n",
    "    \n",
    "    # Gera o horário de saída após mais 4 horas de trabalho\n",
    "    hora_saida = retorno_almoco + timedelta(hours=4)\n",
    "\n",
    "    # Ajusta para não ter horários idênticos na saída\n",
    "    minuto_diferenca = random.randint(1, 9)\n",
    "    hora_saida += timedelta(minutes=minuto_diferenca)\n",
    "\n",
    "    # Formata os horários no formato HH:MM\n",
    "    horario_entrada = hora_entrada.strftime('%H:%M')\n",
    "    horario_almoco = hora_almoco.strftime('%H:%M')\n",
    "    horario_retorno = retorno_almoco.strftime('%H:%M')\n",
    "    horario_saida = hora_saida.strftime('%H:%M')\n",
    "\n",
    "    return horario_entrada, horario_almoco, horario_retorno, horario_saida\n",
    "\n",
    "# Gera horários para um dia\n",
    "horas = gerar_horario()\n",
    "print(f\"Entrada: {horas[0]} - Almoço: {horas[1]} - Retorno: {horas[2]} - Saída: {horas[3]}\")"
   ]
  },
  {
   "cell_type": "code",
   "execution_count": 3,
   "metadata": {},
   "outputs": [
    {
     "ename": "KeyboardInterrupt",
     "evalue": "",
     "output_type": "error",
     "traceback": [
      "\u001b[1;31m---------------------------------------------------------------------------\u001b[0m",
      "\u001b[1;31mKeyboardInterrupt\u001b[0m                         Traceback (most recent call last)",
      "Cell \u001b[1;32mIn[3], line 42\u001b[0m\n\u001b[0;32m     39\u001b[0m     \u001b[38;5;28;01mreturn\u001b[39;00m horario_entrada, horario_almoco, horario_retorno, horario_saida\n\u001b[0;32m     41\u001b[0m \u001b[38;5;66;03m# Gera horários para um dia\u001b[39;00m\n\u001b[1;32m---> 42\u001b[0m horas \u001b[38;5;241m=\u001b[39m gerar_horario()\n\u001b[0;32m     43\u001b[0m \u001b[38;5;28mprint\u001b[39m(\u001b[38;5;124mf\u001b[39m\u001b[38;5;124m\"\u001b[39m\u001b[38;5;124mEntrada: \u001b[39m\u001b[38;5;132;01m{\u001b[39;00mhoras[\u001b[38;5;241m0\u001b[39m]\u001b[38;5;132;01m}\u001b[39;00m\u001b[38;5;124m - Almoço: \u001b[39m\u001b[38;5;132;01m{\u001b[39;00mhoras[\u001b[38;5;241m1\u001b[39m]\u001b[38;5;132;01m}\u001b[39;00m\u001b[38;5;124m - Retorno: \u001b[39m\u001b[38;5;132;01m{\u001b[39;00mhoras[\u001b[38;5;241m2\u001b[39m]\u001b[38;5;132;01m}\u001b[39;00m\u001b[38;5;124m - Saída: \u001b[39m\u001b[38;5;132;01m{\u001b[39;00mhoras[\u001b[38;5;241m3\u001b[39m]\u001b[38;5;132;01m}\u001b[39;00m\u001b[38;5;124m\"\u001b[39m)\n",
      "Cell \u001b[1;32mIn[3], line 19\u001b[0m, in \u001b[0;36mgerar_horario\u001b[1;34m()\u001b[0m\n\u001b[0;32m     17\u001b[0m \u001b[38;5;28;01mwhile\u001b[39;00m \u001b[38;5;28;01mTrue\u001b[39;00m:\n\u001b[0;32m     18\u001b[0m     hora_almoco \u001b[38;5;241m=\u001b[39m hora_entrada \u001b[38;5;241m+\u001b[39m timedelta(hours\u001b[38;5;241m=\u001b[39m\u001b[38;5;241m4\u001b[39m)\n\u001b[1;32m---> 19\u001b[0m     horario_almoco \u001b[38;5;241m=\u001b[39m hora_almoco\u001b[38;5;241m.\u001b[39mstrftime(\u001b[38;5;124m'\u001b[39m\u001b[38;5;124m%\u001b[39m\u001b[38;5;124mH:\u001b[39m\u001b[38;5;124m%\u001b[39m\u001b[38;5;124mM\u001b[39m\u001b[38;5;124m'\u001b[39m)\n\u001b[0;32m     20\u001b[0m     \u001b[38;5;28;01mif\u001b[39;00m horario_distinto([horario_entrada], horario_almoco):\n\u001b[0;32m     21\u001b[0m         \u001b[38;5;28;01mbreak\u001b[39;00m\n",
      "\u001b[1;31mKeyboardInterrupt\u001b[0m: "
     ]
    }
   ],
   "source": [
    "import random\n",
    "from datetime import datetime, timedelta\n",
    "\n",
    "def gerar_horario():\n",
    "    def horario_distinto(horarios, novo_horario):\n",
    "        # Verifica se os minutos finais são iguais\n",
    "        return all(h[-2:] != novo_horario[-2:] for h in horarios)\n",
    "\n",
    "    # Gera um horário de entrada aleatório entre 8:00 e 9:00\n",
    "    while True:\n",
    "        hora_entrada = datetime.strptime(f'{random.randint(8, 9)}:{random.randint(0, 59):02}', '%H:%M')\n",
    "        horario_entrada = hora_entrada.strftime('%H:%M')\n",
    "        if horario_distinto([], horario_entrada):\n",
    "            break\n",
    "\n",
    "    # Gera o horário de almoço após 4 horas de trabalho\n",
    "    while True:\n",
    "        hora_almoco = hora_entrada + timedelta(hours=4)\n",
    "        horario_almoco = hora_almoco.strftime('%H:%M')\n",
    "        if horario_distinto([horario_entrada], horario_almoco):\n",
    "            break\n",
    "\n",
    "    # Gera o retorno do almoço após 1 hora\n",
    "    while True:\n",
    "        retorno_almoco = hora_almoco + timedelta(hours=1)\n",
    "        horario_retorno = retorno_almoco.strftime('%H:%M')\n",
    "        if horario_distinto([horario_entrada, horario_almoco], horario_retorno):\n",
    "            break\n",
    "\n",
    "    # Gera o horário de saída após mais 4 horas de trabalho\n",
    "    while True:\n",
    "        hora_saida = retorno_almoco + timedelta(hours=4)\n",
    "        minuto_diferenca = random.randint(1, 9)\n",
    "        hora_saida += timedelta(minutes=minuto_diferenca)\n",
    "        horario_saida = hora_saida.strftime('%H:%M')\n",
    "        if horario_distinto([horario_entrada, horario_almoco, horario_retorno], horario_saida):\n",
    "            break\n",
    "\n",
    "    return horario_entrada, horario_almoco, horario_retorno, horario_saida\n",
    "\n",
    "# Gera horários para um dia\n",
    "horas = gerar_horario()\n",
    "print(f\"Entrada: {horas[0]} - Almoço: {horas[1]} - Retorno: {horas[2]} - Saída: {horas[3]}\")"
   ]
  }
 ],
 "metadata": {
  "kernelspec": {
   "display_name": "base",
   "language": "python",
   "name": "python3"
  },
  "language_info": {
   "codemirror_mode": {
    "name": "ipython",
    "version": 3
   },
   "file_extension": ".py",
   "mimetype": "text/x-python",
   "name": "python",
   "nbconvert_exporter": "python",
   "pygments_lexer": "ipython3",
   "version": "3.12.7"
  }
 },
 "nbformat": 4,
 "nbformat_minor": 2
}
